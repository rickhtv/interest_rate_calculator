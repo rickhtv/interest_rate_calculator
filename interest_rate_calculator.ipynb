{
 "cells": [
  {
   "cell_type": "markdown",
   "metadata": {},
   "source": [
    "Interests Rate Calculations \n",
    "\n",
    "This program calculates interests rates for simple and compound rates "
   ]
  },
  {
   "cell_type": "code",
   "execution_count": 2,
   "metadata": {},
   "outputs": [],
   "source": [
    "#Functions for the calculators\n",
    "\n",
    "#Simples interest rate doesn't add up with time \n",
    "def simple_interest(capital,tax,time):\n",
    "    interest = capital * tax * time \n",
    "    return interest \n",
    "\n",
    "#compound interest, it adds up with time \n",
    "def compound_interest(capital,tax,time):\n",
    "    amount = capital * ((1+tax)**time)\n",
    "    return amount \n",
    "\n",
    "#Calculte the amount of interets in a compund calculation the total capital minus the amount of interest \n",
    "def compound_interest_amount(capital,tax,time):\n",
    "    amount = capital * ((1+tax)**time)\n",
    "    return amount - capital "
   ]
  },
  {
   "cell_type": "code",
   "execution_count": 19,
   "metadata": {},
   "outputs": [
    {
     "name": "stdout",
     "output_type": "stream",
     "text": [
      "The result of simple interest is:\n",
      "35904.0\n",
      "The result of compund interest is:\n",
      "118433.72441599818\n",
      "The total amount of the interest is:\n",
      "98433.72441599818\n"
     ]
    }
   ],
   "source": [
    "#Run functions:\n",
    "capital = 20000\n",
    "tax = 0.0187\n",
    "time = 96\n",
    "print(\"The result of simple interest is:\")\n",
    "print(simple_interest(capital,tax,time))\n",
    "print(\"The result of compund interest is:\")\n",
    "print(compound_interest(capital,tax,time))\n",
    "print(\"The total amount of the interest is:\")\n",
    "print(compound_interest_amount(capital,tax,time))"
   ]
  }
 ],
 "metadata": {
  "kernelspec": {
   "display_name": "Python 3.8.8 ('base')",
   "language": "python",
   "name": "python3"
  },
  "language_info": {
   "codemirror_mode": {
    "name": "ipython",
    "version": 3
   },
   "file_extension": ".py",
   "mimetype": "text/x-python",
   "name": "python",
   "nbconvert_exporter": "python",
   "pygments_lexer": "ipython3",
   "version": "3.8.8"
  },
  "orig_nbformat": 4,
  "vscode": {
   "interpreter": {
    "hash": "32e4382b89f61c5489df34525136ee04848ef2d03fdea9ee93212715295cc80c"
   }
  }
 },
 "nbformat": 4,
 "nbformat_minor": 2
}
